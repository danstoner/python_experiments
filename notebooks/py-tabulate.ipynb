{
 "cells": [
  {
   "cell_type": "markdown",
   "metadata": {},
   "source": [
    "## Notebook for exploring the cause of airflow conn_id being truncated.\n",
    "\n",
    "Truncating seems like a good idea for some of the fields, but for connection id it seems like the full name would be more useful.\n",
    "\n",
    "```\n",
    "airflow@313edb656578:~$ airflow connections --list\n",
    "[2019-01-08 19:56:15,947] {{settings.py:174}} INFO - setting.configure_orm(): Using pool settings. pool_size=5, pool_recycle=1800\n",
    "[2019-01-08 19:56:16,350] {{__init__.py:51}} INFO - Using executor SequentialExecutor\n",
    "╒════════════════════════════════╤═════════════════════════╤════════════════════════════════╤════════╤════════════════╤══════════════════════╤════════════════════════════════╕\n",
    "│ Conn Id                        │ Conn Type               │ Host                           │ Port   │ Is Encrypted   │ Is Extra Encrypted   │ Extra                          │\n",
    "╞════════════════════════════════╪═════════════════════════╪════════════════════════════════╪════════╪════════════════╪══════════════════════╪════════════════════════════════╡\n",
    "│ 'long_names...are_truncated'                  │ 'mysql'                 │ 'localhost'                    │ None   │ True           │ False                │ None                           │\n",
    "╘════════════════════════════════╧═════════════════════════╧════════════════════════════════╧════════╧════════════════╧══════════════════════╧════════════════════════════════╛\n",
    "\n",
    "```\n",
    "\n",
    "At first I thought it was tabulate that was doing the truncating...."
   ]
  },
  {
   "cell_type": "code",
   "execution_count": 3,
   "metadata": {},
   "outputs": [],
   "source": [
    "# will probably need to pip install this external to jupyter\n",
    "from tabulate import tabulate\n",
    "import reprlib\n",
    "mydict = dict()"
   ]
  },
  {
   "cell_type": "code",
   "execution_count": null,
   "metadata": {},
   "outputs": [],
   "source": []
  },
  {
   "cell_type": "code",
   "execution_count": 4,
   "metadata": {},
   "outputs": [],
   "source": [
    "def populate_array(mydict):\n",
    "    for i in range(50):\n",
    "        line = ''\n",
    "        for j in range(50):\n",
    "            line += 'X'\n",
    "            mydict[j] = line\n"
   ]
  },
  {
   "cell_type": "code",
   "execution_count": 5,
   "metadata": {},
   "outputs": [],
   "source": [
    "newdict = dict()\n",
    "populate_array(newdict)"
   ]
  },
  {
   "cell_type": "code",
   "execution_count": 6,
   "metadata": {},
   "outputs": [
    {
     "data": {
      "text/plain": [
       "{0: 'X',\n",
       " 1: 'XX',\n",
       " 2: 'XXX',\n",
       " 3: 'XXXX',\n",
       " 4: 'XXXXX',\n",
       " 5: 'XXXXXX',\n",
       " 6: 'XXXXXXX',\n",
       " 7: 'XXXXXXXX',\n",
       " 8: 'XXXXXXXXX',\n",
       " 9: 'XXXXXXXXXX',\n",
       " 10: 'XXXXXXXXXXX',\n",
       " 11: 'XXXXXXXXXXXX',\n",
       " 12: 'XXXXXXXXXXXXX',\n",
       " 13: 'XXXXXXXXXXXXXX',\n",
       " 14: 'XXXXXXXXXXXXXXX',\n",
       " 15: 'XXXXXXXXXXXXXXXX',\n",
       " 16: 'XXXXXXXXXXXXXXXXX',\n",
       " 17: 'XXXXXXXXXXXXXXXXXX',\n",
       " 18: 'XXXXXXXXXXXXXXXXXXX',\n",
       " 19: 'XXXXXXXXXXXXXXXXXXXX',\n",
       " 20: 'XXXXXXXXXXXXXXXXXXXXX',\n",
       " 21: 'XXXXXXXXXXXXXXXXXXXXXX',\n",
       " 22: 'XXXXXXXXXXXXXXXXXXXXXXX',\n",
       " 23: 'XXXXXXXXXXXXXXXXXXXXXXXX',\n",
       " 24: 'XXXXXXXXXXXXXXXXXXXXXXXXX',\n",
       " 25: 'XXXXXXXXXXXXXXXXXXXXXXXXXX',\n",
       " 26: 'XXXXXXXXXXXXXXXXXXXXXXXXXXX',\n",
       " 27: 'XXXXXXXXXXXXXXXXXXXXXXXXXXXX',\n",
       " 28: 'XXXXXXXXXXXXXXXXXXXXXXXXXXXXX',\n",
       " 29: 'XXXXXXXXXXXXXXXXXXXXXXXXXXXXXX',\n",
       " 30: 'XXXXXXXXXXXXXXXXXXXXXXXXXXXXXXX',\n",
       " 31: 'XXXXXXXXXXXXXXXXXXXXXXXXXXXXXXXX',\n",
       " 32: 'XXXXXXXXXXXXXXXXXXXXXXXXXXXXXXXXX',\n",
       " 33: 'XXXXXXXXXXXXXXXXXXXXXXXXXXXXXXXXXX',\n",
       " 34: 'XXXXXXXXXXXXXXXXXXXXXXXXXXXXXXXXXXX',\n",
       " 35: 'XXXXXXXXXXXXXXXXXXXXXXXXXXXXXXXXXXXX',\n",
       " 36: 'XXXXXXXXXXXXXXXXXXXXXXXXXXXXXXXXXXXXX',\n",
       " 37: 'XXXXXXXXXXXXXXXXXXXXXXXXXXXXXXXXXXXXXX',\n",
       " 38: 'XXXXXXXXXXXXXXXXXXXXXXXXXXXXXXXXXXXXXXX',\n",
       " 39: 'XXXXXXXXXXXXXXXXXXXXXXXXXXXXXXXXXXXXXXXX',\n",
       " 40: 'XXXXXXXXXXXXXXXXXXXXXXXXXXXXXXXXXXXXXXXXX',\n",
       " 41: 'XXXXXXXXXXXXXXXXXXXXXXXXXXXXXXXXXXXXXXXXXX',\n",
       " 42: 'XXXXXXXXXXXXXXXXXXXXXXXXXXXXXXXXXXXXXXXXXXX',\n",
       " 43: 'XXXXXXXXXXXXXXXXXXXXXXXXXXXXXXXXXXXXXXXXXXXX',\n",
       " 44: 'XXXXXXXXXXXXXXXXXXXXXXXXXXXXXXXXXXXXXXXXXXXXX',\n",
       " 45: 'XXXXXXXXXXXXXXXXXXXXXXXXXXXXXXXXXXXXXXXXXXXXXX',\n",
       " 46: 'XXXXXXXXXXXXXXXXXXXXXXXXXXXXXXXXXXXXXXXXXXXXXXX',\n",
       " 47: 'XXXXXXXXXXXXXXXXXXXXXXXXXXXXXXXXXXXXXXXXXXXXXXXX',\n",
       " 48: 'XXXXXXXXXXXXXXXXXXXXXXXXXXXXXXXXXXXXXXXXXXXXXXXXX',\n",
       " 49: 'XXXXXXXXXXXXXXXXXXXXXXXXXXXXXXXXXXXXXXXXXXXXXXXXXX'}"
      ]
     },
     "execution_count": 6,
     "metadata": {},
     "output_type": "execute_result"
    }
   ],
   "source": [
    "newdict"
   ]
  },
  {
   "cell_type": "code",
   "execution_count": 7,
   "metadata": {},
   "outputs": [],
   "source": [
    "mylist = []\n",
    "for each in newdict:\n",
    "    mylist.append([newdict[each]])\n"
   ]
  },
  {
   "cell_type": "code",
   "execution_count": 8,
   "metadata": {},
   "outputs": [
    {
     "data": {
      "text/plain": [
       "[['X'],\n",
       " ['XX'],\n",
       " ['XXX'],\n",
       " ['XXXX'],\n",
       " ['XXXXX'],\n",
       " ['XXXXXX'],\n",
       " ['XXXXXXX'],\n",
       " ['XXXXXXXX'],\n",
       " ['XXXXXXXXX'],\n",
       " ['XXXXXXXXXX'],\n",
       " ['XXXXXXXXXXX'],\n",
       " ['XXXXXXXXXXXX'],\n",
       " ['XXXXXXXXXXXXX'],\n",
       " ['XXXXXXXXXXXXXX'],\n",
       " ['XXXXXXXXXXXXXXX'],\n",
       " ['XXXXXXXXXXXXXXXX'],\n",
       " ['XXXXXXXXXXXXXXXXX'],\n",
       " ['XXXXXXXXXXXXXXXXXX'],\n",
       " ['XXXXXXXXXXXXXXXXXXX'],\n",
       " ['XXXXXXXXXXXXXXXXXXXX'],\n",
       " ['XXXXXXXXXXXXXXXXXXXXX'],\n",
       " ['XXXXXXXXXXXXXXXXXXXXXX'],\n",
       " ['XXXXXXXXXXXXXXXXXXXXXXX'],\n",
       " ['XXXXXXXXXXXXXXXXXXXXXXXX'],\n",
       " ['XXXXXXXXXXXXXXXXXXXXXXXXX'],\n",
       " ['XXXXXXXXXXXXXXXXXXXXXXXXXX'],\n",
       " ['XXXXXXXXXXXXXXXXXXXXXXXXXXX'],\n",
       " ['XXXXXXXXXXXXXXXXXXXXXXXXXXXX'],\n",
       " ['XXXXXXXXXXXXXXXXXXXXXXXXXXXXX'],\n",
       " ['XXXXXXXXXXXXXXXXXXXXXXXXXXXXXX'],\n",
       " ['XXXXXXXXXXXXXXXXXXXXXXXXXXXXXXX'],\n",
       " ['XXXXXXXXXXXXXXXXXXXXXXXXXXXXXXXX'],\n",
       " ['XXXXXXXXXXXXXXXXXXXXXXXXXXXXXXXXX'],\n",
       " ['XXXXXXXXXXXXXXXXXXXXXXXXXXXXXXXXXX'],\n",
       " ['XXXXXXXXXXXXXXXXXXXXXXXXXXXXXXXXXXX'],\n",
       " ['XXXXXXXXXXXXXXXXXXXXXXXXXXXXXXXXXXXX'],\n",
       " ['XXXXXXXXXXXXXXXXXXXXXXXXXXXXXXXXXXXXX'],\n",
       " ['XXXXXXXXXXXXXXXXXXXXXXXXXXXXXXXXXXXXXX'],\n",
       " ['XXXXXXXXXXXXXXXXXXXXXXXXXXXXXXXXXXXXXXX'],\n",
       " ['XXXXXXXXXXXXXXXXXXXXXXXXXXXXXXXXXXXXXXXX'],\n",
       " ['XXXXXXXXXXXXXXXXXXXXXXXXXXXXXXXXXXXXXXXXX'],\n",
       " ['XXXXXXXXXXXXXXXXXXXXXXXXXXXXXXXXXXXXXXXXXX'],\n",
       " ['XXXXXXXXXXXXXXXXXXXXXXXXXXXXXXXXXXXXXXXXXXX'],\n",
       " ['XXXXXXXXXXXXXXXXXXXXXXXXXXXXXXXXXXXXXXXXXXXX'],\n",
       " ['XXXXXXXXXXXXXXXXXXXXXXXXXXXXXXXXXXXXXXXXXXXXX'],\n",
       " ['XXXXXXXXXXXXXXXXXXXXXXXXXXXXXXXXXXXXXXXXXXXXXX'],\n",
       " ['XXXXXXXXXXXXXXXXXXXXXXXXXXXXXXXXXXXXXXXXXXXXXXX'],\n",
       " ['XXXXXXXXXXXXXXXXXXXXXXXXXXXXXXXXXXXXXXXXXXXXXXXX'],\n",
       " ['XXXXXXXXXXXXXXXXXXXXXXXXXXXXXXXXXXXXXXXXXXXXXXXXX'],\n",
       " ['XXXXXXXXXXXXXXXXXXXXXXXXXXXXXXXXXXXXXXXXXXXXXXXXXX']]"
      ]
     },
     "execution_count": 8,
     "metadata": {},
     "output_type": "execute_result"
    }
   ],
   "source": [
    "mylist"
   ]
  },
  {
   "cell_type": "code",
   "execution_count": 10,
   "metadata": {},
   "outputs": [],
   "source": [
    "# The trucation in airflow connections list is actually caused by use of reprlib, not tabulate\n",
    "conns = [map(reprlib.repr, conn) for conn in mylist]"
   ]
  },
  {
   "cell_type": "code",
   "execution_count": 11,
   "metadata": {},
   "outputs": [
    {
     "data": {
      "text/plain": [
       "[<map at 0x7fde00dfaf28>,\n",
       " <map at 0x7fde00dfae80>,\n",
       " <map at 0x7fde00dfadd8>,\n",
       " <map at 0x7fde00dfac18>,\n",
       " <map at 0x7fde00dfa780>,\n",
       " <map at 0x7fde00dfaa90>,\n",
       " <map at 0x7fde00dfa9e8>,\n",
       " <map at 0x7fde00dfaac8>,\n",
       " <map at 0x7fde00dfafd0>,\n",
       " <map at 0x7fde00dfa6d8>,\n",
       " <map at 0x7fde00dfada0>,\n",
       " <map at 0x7fde00df8080>,\n",
       " <map at 0x7fde00df8128>,\n",
       " <map at 0x7fde00df81d0>,\n",
       " <map at 0x7fde00df8278>,\n",
       " <map at 0x7fde00df8320>,\n",
       " <map at 0x7fde00df83c8>,\n",
       " <map at 0x7fde00df8470>,\n",
       " <map at 0x7fde00df8518>,\n",
       " <map at 0x7fde00df85c0>,\n",
       " <map at 0x7fde00df8668>,\n",
       " <map at 0x7fde00df8710>,\n",
       " <map at 0x7fde00df87b8>,\n",
       " <map at 0x7fde00df8860>,\n",
       " <map at 0x7fde00df8908>,\n",
       " <map at 0x7fde00df89b0>,\n",
       " <map at 0x7fde00df8a58>,\n",
       " <map at 0x7fde00df8b00>,\n",
       " <map at 0x7fde00df8ba8>,\n",
       " <map at 0x7fde00df8c50>,\n",
       " <map at 0x7fde00df8cf8>,\n",
       " <map at 0x7fde00df8da0>,\n",
       " <map at 0x7fde00df8e48>,\n",
       " <map at 0x7fde00df8ef0>,\n",
       " <map at 0x7fde00df8f98>,\n",
       " <map at 0x7fde00df6080>,\n",
       " <map at 0x7fde00df6128>,\n",
       " <map at 0x7fde00df61d0>,\n",
       " <map at 0x7fde00df6278>,\n",
       " <map at 0x7fde00df6320>,\n",
       " <map at 0x7fde00df63c8>,\n",
       " <map at 0x7fde00df6470>,\n",
       " <map at 0x7fde00df6518>,\n",
       " <map at 0x7fde00df65c0>,\n",
       " <map at 0x7fde00df6668>,\n",
       " <map at 0x7fde00df6710>,\n",
       " <map at 0x7fde00df67b8>,\n",
       " <map at 0x7fde00df6860>,\n",
       " <map at 0x7fde00df6908>,\n",
       " <map at 0x7fde00df69b0>]"
      ]
     },
     "execution_count": 11,
     "metadata": {},
     "output_type": "execute_result"
    }
   ],
   "source": [
    "conns"
   ]
  },
  {
   "cell_type": "code",
   "execution_count": null,
   "metadata": {},
   "outputs": [],
   "source": []
  },
  {
   "cell_type": "code",
   "execution_count": 12,
   "metadata": {},
   "outputs": [
    {
     "name": "stdout",
     "output_type": "stream",
     "text": [
      "╒════════════════════════════════╕\n",
      "│ 'X'                            │\n",
      "├────────────────────────────────┤\n",
      "│ 'XX'                           │\n",
      "├────────────────────────────────┤\n",
      "│ 'XXX'                          │\n",
      "├────────────────────────────────┤\n",
      "│ 'XXXX'                         │\n",
      "├────────────────────────────────┤\n",
      "│ 'XXXXX'                        │\n",
      "├────────────────────────────────┤\n",
      "│ 'XXXXXX'                       │\n",
      "├────────────────────────────────┤\n",
      "│ 'XXXXXXX'                      │\n",
      "├────────────────────────────────┤\n",
      "│ 'XXXXXXXX'                     │\n",
      "├────────────────────────────────┤\n",
      "│ 'XXXXXXXXX'                    │\n",
      "├────────────────────────────────┤\n",
      "│ 'XXXXXXXXXX'                   │\n",
      "├────────────────────────────────┤\n",
      "│ 'XXXXXXXXXXX'                  │\n",
      "├────────────────────────────────┤\n",
      "│ 'XXXXXXXXXXXX'                 │\n",
      "├────────────────────────────────┤\n",
      "│ 'XXXXXXXXXXXXX'                │\n",
      "├────────────────────────────────┤\n",
      "│ 'XXXXXXXXXXXXXX'               │\n",
      "├────────────────────────────────┤\n",
      "│ 'XXXXXXXXXXXXXXX'              │\n",
      "├────────────────────────────────┤\n",
      "│ 'XXXXXXXXXXXXXXXX'             │\n",
      "├────────────────────────────────┤\n",
      "│ 'XXXXXXXXXXXXXXXXX'            │\n",
      "├────────────────────────────────┤\n",
      "│ 'XXXXXXXXXXXXXXXXXX'           │\n",
      "├────────────────────────────────┤\n",
      "│ 'XXXXXXXXXXXXXXXXXXX'          │\n",
      "├────────────────────────────────┤\n",
      "│ 'XXXXXXXXXXXXXXXXXXXX'         │\n",
      "├────────────────────────────────┤\n",
      "│ 'XXXXXXXXXXXXXXXXXXXXX'        │\n",
      "├────────────────────────────────┤\n",
      "│ 'XXXXXXXXXXXXXXXXXXXXXX'       │\n",
      "├────────────────────────────────┤\n",
      "│ 'XXXXXXXXXXXXXXXXXXXXXXX'      │\n",
      "├────────────────────────────────┤\n",
      "│ 'XXXXXXXXXXXXXXXXXXXXXXXX'     │\n",
      "├────────────────────────────────┤\n",
      "│ 'XXXXXXXXXXXXXXXXXXXXXXXXX'    │\n",
      "├────────────────────────────────┤\n",
      "│ 'XXXXXXXXXXXXXXXXXXXXXXXXXX'   │\n",
      "├────────────────────────────────┤\n",
      "│ 'XXXXXXXXXXXXXXXXXXXXXXXXXXX'  │\n",
      "├────────────────────────────────┤\n",
      "│ 'XXXXXXXXXXXXXXXXXXXXXXXXXXXX' │\n",
      "├────────────────────────────────┤\n",
      "│ 'XXXXXXXXXXXX...XXXXXXXXXXXXX' │\n",
      "├────────────────────────────────┤\n",
      "│ 'XXXXXXXXXXXX...XXXXXXXXXXXXX' │\n",
      "├────────────────────────────────┤\n",
      "│ 'XXXXXXXXXXXX...XXXXXXXXXXXXX' │\n",
      "├────────────────────────────────┤\n",
      "│ 'XXXXXXXXXXXX...XXXXXXXXXXXXX' │\n",
      "├────────────────────────────────┤\n",
      "│ 'XXXXXXXXXXXX...XXXXXXXXXXXXX' │\n",
      "├────────────────────────────────┤\n",
      "│ 'XXXXXXXXXXXX...XXXXXXXXXXXXX' │\n",
      "├────────────────────────────────┤\n",
      "│ 'XXXXXXXXXXXX...XXXXXXXXXXXXX' │\n",
      "├────────────────────────────────┤\n",
      "│ 'XXXXXXXXXXXX...XXXXXXXXXXXXX' │\n",
      "├────────────────────────────────┤\n",
      "│ 'XXXXXXXXXXXX...XXXXXXXXXXXXX' │\n",
      "├────────────────────────────────┤\n",
      "│ 'XXXXXXXXXXXX...XXXXXXXXXXXXX' │\n",
      "├────────────────────────────────┤\n",
      "│ 'XXXXXXXXXXXX...XXXXXXXXXXXXX' │\n",
      "├────────────────────────────────┤\n",
      "│ 'XXXXXXXXXXXX...XXXXXXXXXXXXX' │\n",
      "├────────────────────────────────┤\n",
      "│ 'XXXXXXXXXXXX...XXXXXXXXXXXXX' │\n",
      "├────────────────────────────────┤\n",
      "│ 'XXXXXXXXXXXX...XXXXXXXXXXXXX' │\n",
      "├────────────────────────────────┤\n",
      "│ 'XXXXXXXXXXXX...XXXXXXXXXXXXX' │\n",
      "├────────────────────────────────┤\n",
      "│ 'XXXXXXXXXXXX...XXXXXXXXXXXXX' │\n",
      "├────────────────────────────────┤\n",
      "│ 'XXXXXXXXXXXX...XXXXXXXXXXXXX' │\n",
      "├────────────────────────────────┤\n",
      "│ 'XXXXXXXXXXXX...XXXXXXXXXXXXX' │\n",
      "├────────────────────────────────┤\n",
      "│ 'XXXXXXXXXXXX...XXXXXXXXXXXXX' │\n",
      "├────────────────────────────────┤\n",
      "│ 'XXXXXXXXXXXX...XXXXXXXXXXXXX' │\n",
      "├────────────────────────────────┤\n",
      "│ 'XXXXXXXXXXXX...XXXXXXXXXXXXX' │\n",
      "├────────────────────────────────┤\n",
      "│ 'XXXXXXXXXXXX...XXXXXXXXXXXXX' │\n",
      "╘════════════════════════════════╛\n"
     ]
    }
   ],
   "source": [
    "print (tabulate(conns, tablefmt=\"fancy_grid\"))"
   ]
  },
  {
   "cell_type": "markdown",
   "metadata": {},
   "source": [
    "So it turns out that the cause of truncation is use of the `reprlib` library."
   ]
  },
  {
   "cell_type": "code",
   "execution_count": null,
   "metadata": {},
   "outputs": [],
   "source": []
  }
 ],
 "metadata": {
  "kernelspec": {
   "display_name": "Python 3",
   "language": "python",
   "name": "python3"
  },
  "language_info": {
   "codemirror_mode": {
    "name": "ipython",
    "version": 3
   },
   "file_extension": ".py",
   "mimetype": "text/x-python",
   "name": "python",
   "nbconvert_exporter": "python",
   "pygments_lexer": "ipython3",
   "version": "3.6.7"
  }
 },
 "nbformat": 4,
 "nbformat_minor": 2
}
