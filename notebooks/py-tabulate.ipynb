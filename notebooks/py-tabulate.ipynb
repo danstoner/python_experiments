{
 "cells": [
  {
   "cell_type": "code",
   "execution_count": 52,
   "metadata": {},
   "outputs": [],
   "source": [
    "from tabulate import tabulate\n",
    "import reprlib\n",
    "mylist = dict()"
   ]
  },
  {
   "cell_type": "code",
   "execution_count": 53,
   "metadata": {},
   "outputs": [
    {
     "data": {
      "text/plain": [
       "dict"
      ]
     },
     "execution_count": 53,
     "metadata": {},
     "output_type": "execute_result"
    }
   ],
   "source": [
    "type(mylist)"
   ]
  },
  {
   "cell_type": "code",
   "execution_count": 54,
   "metadata": {},
   "outputs": [],
   "source": [
    "def populate_array(mydict):\n",
    "    for i in range(50):\n",
    "        line = ''\n",
    "        for j in range(50):\n",
    "            line += 'X'\n",
    "            mydict[j] = line\n"
   ]
  },
  {
   "cell_type": "code",
   "execution_count": 55,
   "metadata": {},
   "outputs": [],
   "source": [
    "newdict = dict()\n",
    "populate_array(newdict)"
   ]
  },
  {
   "cell_type": "code",
   "execution_count": 56,
   "metadata": {},
   "outputs": [
    {
     "data": {
      "text/plain": [
       "{0: 'X',\n",
       " 1: 'XX',\n",
       " 2: 'XXX',\n",
       " 3: 'XXXX',\n",
       " 4: 'XXXXX',\n",
       " 5: 'XXXXXX',\n",
       " 6: 'XXXXXXX',\n",
       " 7: 'XXXXXXXX',\n",
       " 8: 'XXXXXXXXX',\n",
       " 9: 'XXXXXXXXXX',\n",
       " 10: 'XXXXXXXXXXX',\n",
       " 11: 'XXXXXXXXXXXX',\n",
       " 12: 'XXXXXXXXXXXXX',\n",
       " 13: 'XXXXXXXXXXXXXX',\n",
       " 14: 'XXXXXXXXXXXXXXX',\n",
       " 15: 'XXXXXXXXXXXXXXXX',\n",
       " 16: 'XXXXXXXXXXXXXXXXX',\n",
       " 17: 'XXXXXXXXXXXXXXXXXX',\n",
       " 18: 'XXXXXXXXXXXXXXXXXXX',\n",
       " 19: 'XXXXXXXXXXXXXXXXXXXX',\n",
       " 20: 'XXXXXXXXXXXXXXXXXXXXX',\n",
       " 21: 'XXXXXXXXXXXXXXXXXXXXXX',\n",
       " 22: 'XXXXXXXXXXXXXXXXXXXXXXX',\n",
       " 23: 'XXXXXXXXXXXXXXXXXXXXXXXX',\n",
       " 24: 'XXXXXXXXXXXXXXXXXXXXXXXXX',\n",
       " 25: 'XXXXXXXXXXXXXXXXXXXXXXXXXX',\n",
       " 26: 'XXXXXXXXXXXXXXXXXXXXXXXXXXX',\n",
       " 27: 'XXXXXXXXXXXXXXXXXXXXXXXXXXXX',\n",
       " 28: 'XXXXXXXXXXXXXXXXXXXXXXXXXXXXX',\n",
       " 29: 'XXXXXXXXXXXXXXXXXXXXXXXXXXXXXX',\n",
       " 30: 'XXXXXXXXXXXXXXXXXXXXXXXXXXXXXXX',\n",
       " 31: 'XXXXXXXXXXXXXXXXXXXXXXXXXXXXXXXX',\n",
       " 32: 'XXXXXXXXXXXXXXXXXXXXXXXXXXXXXXXXX',\n",
       " 33: 'XXXXXXXXXXXXXXXXXXXXXXXXXXXXXXXXXX',\n",
       " 34: 'XXXXXXXXXXXXXXXXXXXXXXXXXXXXXXXXXXX',\n",
       " 35: 'XXXXXXXXXXXXXXXXXXXXXXXXXXXXXXXXXXXX',\n",
       " 36: 'XXXXXXXXXXXXXXXXXXXXXXXXXXXXXXXXXXXXX',\n",
       " 37: 'XXXXXXXXXXXXXXXXXXXXXXXXXXXXXXXXXXXXXX',\n",
       " 38: 'XXXXXXXXXXXXXXXXXXXXXXXXXXXXXXXXXXXXXXX',\n",
       " 39: 'XXXXXXXXXXXXXXXXXXXXXXXXXXXXXXXXXXXXXXXX',\n",
       " 40: 'XXXXXXXXXXXXXXXXXXXXXXXXXXXXXXXXXXXXXXXXX',\n",
       " 41: 'XXXXXXXXXXXXXXXXXXXXXXXXXXXXXXXXXXXXXXXXXX',\n",
       " 42: 'XXXXXXXXXXXXXXXXXXXXXXXXXXXXXXXXXXXXXXXXXXX',\n",
       " 43: 'XXXXXXXXXXXXXXXXXXXXXXXXXXXXXXXXXXXXXXXXXXXX',\n",
       " 44: 'XXXXXXXXXXXXXXXXXXXXXXXXXXXXXXXXXXXXXXXXXXXXX',\n",
       " 45: 'XXXXXXXXXXXXXXXXXXXXXXXXXXXXXXXXXXXXXXXXXXXXXX',\n",
       " 46: 'XXXXXXXXXXXXXXXXXXXXXXXXXXXXXXXXXXXXXXXXXXXXXXX',\n",
       " 47: 'XXXXXXXXXXXXXXXXXXXXXXXXXXXXXXXXXXXXXXXXXXXXXXXX',\n",
       " 48: 'XXXXXXXXXXXXXXXXXXXXXXXXXXXXXXXXXXXXXXXXXXXXXXXXX',\n",
       " 49: 'XXXXXXXXXXXXXXXXXXXXXXXXXXXXXXXXXXXXXXXXXXXXXXXXXX'}"
      ]
     },
     "execution_count": 56,
     "metadata": {},
     "output_type": "execute_result"
    }
   ],
   "source": [
    "newdict"
   ]
  },
  {
   "cell_type": "code",
   "execution_count": 57,
   "metadata": {},
   "outputs": [],
   "source": [
    "mylist = []\n",
    "for each in newdict:\n",
    "    mylist.append([newdict[each]])\n"
   ]
  },
  {
   "cell_type": "code",
   "execution_count": 58,
   "metadata": {},
   "outputs": [
    {
     "data": {
      "text/plain": [
       "[['X'],\n",
       " ['XX'],\n",
       " ['XXX'],\n",
       " ['XXXX'],\n",
       " ['XXXXX'],\n",
       " ['XXXXXX'],\n",
       " ['XXXXXXX'],\n",
       " ['XXXXXXXX'],\n",
       " ['XXXXXXXXX'],\n",
       " ['XXXXXXXXXX'],\n",
       " ['XXXXXXXXXXX'],\n",
       " ['XXXXXXXXXXXX'],\n",
       " ['XXXXXXXXXXXXX'],\n",
       " ['XXXXXXXXXXXXXX'],\n",
       " ['XXXXXXXXXXXXXXX'],\n",
       " ['XXXXXXXXXXXXXXXX'],\n",
       " ['XXXXXXXXXXXXXXXXX'],\n",
       " ['XXXXXXXXXXXXXXXXXX'],\n",
       " ['XXXXXXXXXXXXXXXXXXX'],\n",
       " ['XXXXXXXXXXXXXXXXXXXX'],\n",
       " ['XXXXXXXXXXXXXXXXXXXXX'],\n",
       " ['XXXXXXXXXXXXXXXXXXXXXX'],\n",
       " ['XXXXXXXXXXXXXXXXXXXXXXX'],\n",
       " ['XXXXXXXXXXXXXXXXXXXXXXXX'],\n",
       " ['XXXXXXXXXXXXXXXXXXXXXXXXX'],\n",
       " ['XXXXXXXXXXXXXXXXXXXXXXXXXX'],\n",
       " ['XXXXXXXXXXXXXXXXXXXXXXXXXXX'],\n",
       " ['XXXXXXXXXXXXXXXXXXXXXXXXXXXX'],\n",
       " ['XXXXXXXXXXXXXXXXXXXXXXXXXXXXX'],\n",
       " ['XXXXXXXXXXXXXXXXXXXXXXXXXXXXXX'],\n",
       " ['XXXXXXXXXXXXXXXXXXXXXXXXXXXXXXX'],\n",
       " ['XXXXXXXXXXXXXXXXXXXXXXXXXXXXXXXX'],\n",
       " ['XXXXXXXXXXXXXXXXXXXXXXXXXXXXXXXXX'],\n",
       " ['XXXXXXXXXXXXXXXXXXXXXXXXXXXXXXXXXX'],\n",
       " ['XXXXXXXXXXXXXXXXXXXXXXXXXXXXXXXXXXX'],\n",
       " ['XXXXXXXXXXXXXXXXXXXXXXXXXXXXXXXXXXXX'],\n",
       " ['XXXXXXXXXXXXXXXXXXXXXXXXXXXXXXXXXXXXX'],\n",
       " ['XXXXXXXXXXXXXXXXXXXXXXXXXXXXXXXXXXXXXX'],\n",
       " ['XXXXXXXXXXXXXXXXXXXXXXXXXXXXXXXXXXXXXXX'],\n",
       " ['XXXXXXXXXXXXXXXXXXXXXXXXXXXXXXXXXXXXXXXX'],\n",
       " ['XXXXXXXXXXXXXXXXXXXXXXXXXXXXXXXXXXXXXXXXX'],\n",
       " ['XXXXXXXXXXXXXXXXXXXXXXXXXXXXXXXXXXXXXXXXXX'],\n",
       " ['XXXXXXXXXXXXXXXXXXXXXXXXXXXXXXXXXXXXXXXXXXX'],\n",
       " ['XXXXXXXXXXXXXXXXXXXXXXXXXXXXXXXXXXXXXXXXXXXX'],\n",
       " ['XXXXXXXXXXXXXXXXXXXXXXXXXXXXXXXXXXXXXXXXXXXXX'],\n",
       " ['XXXXXXXXXXXXXXXXXXXXXXXXXXXXXXXXXXXXXXXXXXXXXX'],\n",
       " ['XXXXXXXXXXXXXXXXXXXXXXXXXXXXXXXXXXXXXXXXXXXXXXX'],\n",
       " ['XXXXXXXXXXXXXXXXXXXXXXXXXXXXXXXXXXXXXXXXXXXXXXXX'],\n",
       " ['XXXXXXXXXXXXXXXXXXXXXXXXXXXXXXXXXXXXXXXXXXXXXXXXX'],\n",
       " ['XXXXXXXXXXXXXXXXXXXXXXXXXXXXXXXXXXXXXXXXXXXXXXXXXX']]"
      ]
     },
     "execution_count": 58,
     "metadata": {},
     "output_type": "execute_result"
    }
   ],
   "source": [
    "mylist"
   ]
  },
  {
   "cell_type": "code",
   "execution_count": 59,
   "metadata": {},
   "outputs": [
    {
     "data": {
      "text/plain": [
       "28"
      ]
     },
     "execution_count": 59,
     "metadata": {},
     "output_type": "execute_result"
    }
   ],
   "source": [
    "len('ss-email-eve...1_events_cst4')"
   ]
  },
  {
   "cell_type": "code",
   "execution_count": 60,
   "metadata": {},
   "outputs": [],
   "source": [
    "# The trucation in airflow connections list is actually caused by use of reprlib, not tabulate\n",
    "conns = [map(reprlib.repr, conn) for conn in mylist]"
   ]
  },
  {
   "cell_type": "code",
   "execution_count": 61,
   "metadata": {},
   "outputs": [
    {
     "data": {
      "text/plain": [
       "[<map at 0x7f1444616b70>,\n",
       " <map at 0x7f1444616cc0>,\n",
       " <map at 0x7f1444616d30>,\n",
       " <map at 0x7f1444616c50>,\n",
       " <map at 0x7f1444616ba8>,\n",
       " <map at 0x7f1444616ac8>,\n",
       " <map at 0x7f14446162e8>,\n",
       " <map at 0x7f1444616710>,\n",
       " <map at 0x7f1444616668>,\n",
       " <map at 0x7f1444616748>,\n",
       " <map at 0x7f1444616da0>,\n",
       " <map at 0x7f1444616e10>,\n",
       " <map at 0x7f1444616e80>,\n",
       " <map at 0x7f1444616ef0>,\n",
       " <map at 0x7f1444616f60>,\n",
       " <map at 0x7f1444616fd0>,\n",
       " <map at 0x7f1444616240>,\n",
       " <map at 0x7f1444616b00>,\n",
       " <map at 0x7f1444628048>,\n",
       " <map at 0x7f14446280b8>,\n",
       " <map at 0x7f1444628128>,\n",
       " <map at 0x7f1444628198>,\n",
       " <map at 0x7f1444628208>,\n",
       " <map at 0x7f1444628278>,\n",
       " <map at 0x7f14446282e8>,\n",
       " <map at 0x7f1444628358>,\n",
       " <map at 0x7f14446283c8>,\n",
       " <map at 0x7f1444628438>,\n",
       " <map at 0x7f14446284a8>,\n",
       " <map at 0x7f1444628518>,\n",
       " <map at 0x7f1444628588>,\n",
       " <map at 0x7f14446285f8>,\n",
       " <map at 0x7f1444628668>,\n",
       " <map at 0x7f14446286d8>,\n",
       " <map at 0x7f1444628748>,\n",
       " <map at 0x7f14446287b8>,\n",
       " <map at 0x7f1444628828>,\n",
       " <map at 0x7f1444628898>,\n",
       " <map at 0x7f1444628908>,\n",
       " <map at 0x7f1444628978>,\n",
       " <map at 0x7f14446289e8>,\n",
       " <map at 0x7f1444628a58>,\n",
       " <map at 0x7f1444628ac8>,\n",
       " <map at 0x7f1444628b38>,\n",
       " <map at 0x7f1444628ba8>,\n",
       " <map at 0x7f1444628c18>,\n",
       " <map at 0x7f1444628c88>,\n",
       " <map at 0x7f1444628cf8>,\n",
       " <map at 0x7f1444628d68>,\n",
       " <map at 0x7f1444628dd8>]"
      ]
     },
     "execution_count": 61,
     "metadata": {},
     "output_type": "execute_result"
    }
   ],
   "source": [
    "conns"
   ]
  },
  {
   "cell_type": "code",
   "execution_count": null,
   "metadata": {},
   "outputs": [],
   "source": []
  },
  {
   "cell_type": "code",
   "execution_count": 62,
   "metadata": {},
   "outputs": [
    {
     "name": "stdout",
     "output_type": "stream",
     "text": [
      "╒════════════════════════════════╕\n",
      "│ 'X'                            │\n",
      "├────────────────────────────────┤\n",
      "│ 'XX'                           │\n",
      "├────────────────────────────────┤\n",
      "│ 'XXX'                          │\n",
      "├────────────────────────────────┤\n",
      "│ 'XXXX'                         │\n",
      "├────────────────────────────────┤\n",
      "│ 'XXXXX'                        │\n",
      "├────────────────────────────────┤\n",
      "│ 'XXXXXX'                       │\n",
      "├────────────────────────────────┤\n",
      "│ 'XXXXXXX'                      │\n",
      "├────────────────────────────────┤\n",
      "│ 'XXXXXXXX'                     │\n",
      "├────────────────────────────────┤\n",
      "│ 'XXXXXXXXX'                    │\n",
      "├────────────────────────────────┤\n",
      "│ 'XXXXXXXXXX'                   │\n",
      "├────────────────────────────────┤\n",
      "│ 'XXXXXXXXXXX'                  │\n",
      "├────────────────────────────────┤\n",
      "│ 'XXXXXXXXXXXX'                 │\n",
      "├────────────────────────────────┤\n",
      "│ 'XXXXXXXXXXXXX'                │\n",
      "├────────────────────────────────┤\n",
      "│ 'XXXXXXXXXXXXXX'               │\n",
      "├────────────────────────────────┤\n",
      "│ 'XXXXXXXXXXXXXXX'              │\n",
      "├────────────────────────────────┤\n",
      "│ 'XXXXXXXXXXXXXXXX'             │\n",
      "├────────────────────────────────┤\n",
      "│ 'XXXXXXXXXXXXXXXXX'            │\n",
      "├────────────────────────────────┤\n",
      "│ 'XXXXXXXXXXXXXXXXXX'           │\n",
      "├────────────────────────────────┤\n",
      "│ 'XXXXXXXXXXXXXXXXXXX'          │\n",
      "├────────────────────────────────┤\n",
      "│ 'XXXXXXXXXXXXXXXXXXXX'         │\n",
      "├────────────────────────────────┤\n",
      "│ 'XXXXXXXXXXXXXXXXXXXXX'        │\n",
      "├────────────────────────────────┤\n",
      "│ 'XXXXXXXXXXXXXXXXXXXXXX'       │\n",
      "├────────────────────────────────┤\n",
      "│ 'XXXXXXXXXXXXXXXXXXXXXXX'      │\n",
      "├────────────────────────────────┤\n",
      "│ 'XXXXXXXXXXXXXXXXXXXXXXXX'     │\n",
      "├────────────────────────────────┤\n",
      "│ 'XXXXXXXXXXXXXXXXXXXXXXXXX'    │\n",
      "├────────────────────────────────┤\n",
      "│ 'XXXXXXXXXXXXXXXXXXXXXXXXXX'   │\n",
      "├────────────────────────────────┤\n",
      "│ 'XXXXXXXXXXXXXXXXXXXXXXXXXXX'  │\n",
      "├────────────────────────────────┤\n",
      "│ 'XXXXXXXXXXXXXXXXXXXXXXXXXXXX' │\n",
      "├────────────────────────────────┤\n",
      "│ 'XXXXXXXXXXXX...XXXXXXXXXXXXX' │\n",
      "├────────────────────────────────┤\n",
      "│ 'XXXXXXXXXXXX...XXXXXXXXXXXXX' │\n",
      "├────────────────────────────────┤\n",
      "│ 'XXXXXXXXXXXX...XXXXXXXXXXXXX' │\n",
      "├────────────────────────────────┤\n",
      "│ 'XXXXXXXXXXXX...XXXXXXXXXXXXX' │\n",
      "├────────────────────────────────┤\n",
      "│ 'XXXXXXXXXXXX...XXXXXXXXXXXXX' │\n",
      "├────────────────────────────────┤\n",
      "│ 'XXXXXXXXXXXX...XXXXXXXXXXXXX' │\n",
      "├────────────────────────────────┤\n",
      "│ 'XXXXXXXXXXXX...XXXXXXXXXXXXX' │\n",
      "├────────────────────────────────┤\n",
      "│ 'XXXXXXXXXXXX...XXXXXXXXXXXXX' │\n",
      "├────────────────────────────────┤\n",
      "│ 'XXXXXXXXXXXX...XXXXXXXXXXXXX' │\n",
      "├────────────────────────────────┤\n",
      "│ 'XXXXXXXXXXXX...XXXXXXXXXXXXX' │\n",
      "├────────────────────────────────┤\n",
      "│ 'XXXXXXXXXXXX...XXXXXXXXXXXXX' │\n",
      "├────────────────────────────────┤\n",
      "│ 'XXXXXXXXXXXX...XXXXXXXXXXXXX' │\n",
      "├────────────────────────────────┤\n",
      "│ 'XXXXXXXXXXXX...XXXXXXXXXXXXX' │\n",
      "├────────────────────────────────┤\n",
      "│ 'XXXXXXXXXXXX...XXXXXXXXXXXXX' │\n",
      "├────────────────────────────────┤\n",
      "│ 'XXXXXXXXXXXX...XXXXXXXXXXXXX' │\n",
      "├────────────────────────────────┤\n",
      "│ 'XXXXXXXXXXXX...XXXXXXXXXXXXX' │\n",
      "├────────────────────────────────┤\n",
      "│ 'XXXXXXXXXXXX...XXXXXXXXXXXXX' │\n",
      "├────────────────────────────────┤\n",
      "│ 'XXXXXXXXXXXX...XXXXXXXXXXXXX' │\n",
      "├────────────────────────────────┤\n",
      "│ 'XXXXXXXXXXXX...XXXXXXXXXXXXX' │\n",
      "├────────────────────────────────┤\n",
      "│ 'XXXXXXXXXXXX...XXXXXXXXXXXXX' │\n",
      "├────────────────────────────────┤\n",
      "│ 'XXXXXXXXXXXX...XXXXXXXXXXXXX' │\n",
      "├────────────────────────────────┤\n",
      "│ 'XXXXXXXXXXXX...XXXXXXXXXXXXX' │\n",
      "╘════════════════════════════════╛\n"
     ]
    }
   ],
   "source": [
    "print (tabulate(conns, tablefmt=\"fancy_grid\"))"
   ]
  },
  {
   "cell_type": "code",
   "execution_count": null,
   "metadata": {},
   "outputs": [],
   "source": []
  }
 ],
 "metadata": {
  "kernelspec": {
   "display_name": "Python 3",
   "language": "python",
   "name": "python3"
  },
  "language_info": {
   "codemirror_mode": {
    "name": "ipython",
    "version": 3
   },
   "file_extension": ".py",
   "mimetype": "text/x-python",
   "name": "python",
   "nbconvert_exporter": "python",
   "pygments_lexer": "ipython3",
   "version": "3.6.7"
  }
 },
 "nbformat": 4,
 "nbformat_minor": 2
}
